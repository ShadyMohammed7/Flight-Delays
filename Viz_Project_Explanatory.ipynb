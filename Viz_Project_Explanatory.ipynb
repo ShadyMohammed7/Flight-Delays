{
 "cells": [
  {
   "cell_type": "markdown",
   "id": "a1955129",
   "metadata": {
    "slideshow": {
     "slide_type": "slide"
    }
   },
   "source": [
    "# Effect of different factors on borrower APR\n",
    "\n",
    "  ##                           by Shady Mohammed Hussein\n",
    "  \n",
    "## Investigation overview:\n",
    "\n",
    "### Our main purpose here is to investigate some variables that affect the APR of an individual."
   ]
  },
  {
   "cell_type": "markdown",
   "id": "e08e3fb7",
   "metadata": {
    "slideshow": {
     "slide_type": "slide"
    }
   },
   "source": [
    "###        Preliminary Exploration:\n",
    "\n",
    "- This data set contains 113,937 loans with 81 variables on each loan, including loan amount, borrower rate (or interest rate), current loan status, borrower income, and many others."
   ]
  },
  {
   "cell_type": "code",
   "execution_count": 1,
   "id": "4da045ff",
   "metadata": {
    "slideshow": {
     "slide_type": "skip"
    }
   },
   "outputs": [],
   "source": [
    "import numpy as np\n",
    "import pandas as pd\n",
    "import matplotlib.pyplot as plt\n",
    "import seaborn as sns\n",
    "\n",
    "%matplotlib inline"
   ]
  },
  {
   "cell_type": "code",
   "execution_count": 2,
   "id": "a6d5f972",
   "metadata": {
    "slideshow": {
     "slide_type": "skip"
    }
   },
   "outputs": [],
   "source": [
    "df = pd.read_csv(r\"C:\\Users\\Shady Mohammed\\Downloads\\prosperLoanData.csv\")"
   ]
  },
  {
   "cell_type": "code",
   "execution_count": 3,
   "id": "500e8ee0",
   "metadata": {
    "scrolled": false,
    "slideshow": {
     "slide_type": "skip"
    }
   },
   "outputs": [
    {
     "name": "stdout",
     "output_type": "stream",
     "text": [
      "<class 'pandas.core.frame.DataFrame'>\n",
      "RangeIndex: 113937 entries, 0 to 113936\n",
      "Data columns (total 81 columns):\n",
      " #   Column                               Non-Null Count   Dtype  \n",
      "---  ------                               --------------   -----  \n",
      " 0   ListingKey                           113937 non-null  object \n",
      " 1   ListingNumber                        113937 non-null  int64  \n",
      " 2   ListingCreationDate                  113937 non-null  object \n",
      " 3   CreditGrade                          28953 non-null   object \n",
      " 4   Term                                 113937 non-null  int64  \n",
      " 5   LoanStatus                           113937 non-null  object \n",
      " 6   ClosedDate                           55089 non-null   object \n",
      " 7   BorrowerAPR                          113912 non-null  float64\n",
      " 8   BorrowerRate                         113937 non-null  float64\n",
      " 9   LenderYield                          113937 non-null  float64\n",
      " 10  EstimatedEffectiveYield              84853 non-null   float64\n",
      " 11  EstimatedLoss                        84853 non-null   float64\n",
      " 12  EstimatedReturn                      84853 non-null   float64\n",
      " 13  ProsperRating (numeric)              84853 non-null   float64\n",
      " 14  ProsperRating (Alpha)                84853 non-null   object \n",
      " 15  ProsperScore                         84853 non-null   float64\n",
      " 16  ListingCategory (numeric)            113937 non-null  int64  \n",
      " 17  BorrowerState                        108422 non-null  object \n",
      " 18  Occupation                           110349 non-null  object \n",
      " 19  EmploymentStatus                     111682 non-null  object \n",
      " 20  EmploymentStatusDuration             106312 non-null  float64\n",
      " 21  IsBorrowerHomeowner                  113937 non-null  bool   \n",
      " 22  CurrentlyInGroup                     113937 non-null  bool   \n",
      " 23  GroupKey                             13341 non-null   object \n",
      " 24  DateCreditPulled                     113937 non-null  object \n",
      " 25  CreditScoreRangeLower                113346 non-null  float64\n",
      " 26  CreditScoreRangeUpper                113346 non-null  float64\n",
      " 27  FirstRecordedCreditLine              113240 non-null  object \n",
      " 28  CurrentCreditLines                   106333 non-null  float64\n",
      " 29  OpenCreditLines                      106333 non-null  float64\n",
      " 30  TotalCreditLinespast7years           113240 non-null  float64\n",
      " 31  OpenRevolvingAccounts                113937 non-null  int64  \n",
      " 32  OpenRevolvingMonthlyPayment          113937 non-null  float64\n",
      " 33  InquiriesLast6Months                 113240 non-null  float64\n",
      " 34  TotalInquiries                       112778 non-null  float64\n",
      " 35  CurrentDelinquencies                 113240 non-null  float64\n",
      " 36  AmountDelinquent                     106315 non-null  float64\n",
      " 37  DelinquenciesLast7Years              112947 non-null  float64\n",
      " 38  PublicRecordsLast10Years             113240 non-null  float64\n",
      " 39  PublicRecordsLast12Months            106333 non-null  float64\n",
      " 40  RevolvingCreditBalance               106333 non-null  float64\n",
      " 41  BankcardUtilization                  106333 non-null  float64\n",
      " 42  AvailableBankcardCredit              106393 non-null  float64\n",
      " 43  TotalTrades                          106393 non-null  float64\n",
      " 44  TradesNeverDelinquent (percentage)   106393 non-null  float64\n",
      " 45  TradesOpenedLast6Months              106393 non-null  float64\n",
      " 46  DebtToIncomeRatio                    105383 non-null  float64\n",
      " 47  IncomeRange                          113937 non-null  object \n",
      " 48  IncomeVerifiable                     113937 non-null  bool   \n",
      " 49  StatedMonthlyIncome                  113937 non-null  float64\n",
      " 50  LoanKey                              113937 non-null  object \n",
      " 51  TotalProsperLoans                    22085 non-null   float64\n",
      " 52  TotalProsperPaymentsBilled           22085 non-null   float64\n",
      " 53  OnTimeProsperPayments                22085 non-null   float64\n",
      " 54  ProsperPaymentsLessThanOneMonthLate  22085 non-null   float64\n",
      " 55  ProsperPaymentsOneMonthPlusLate      22085 non-null   float64\n",
      " 56  ProsperPrincipalBorrowed             22085 non-null   float64\n",
      " 57  ProsperPrincipalOutstanding          22085 non-null   float64\n",
      " 58  ScorexChangeAtTimeOfListing          18928 non-null   float64\n",
      " 59  LoanCurrentDaysDelinquent            113937 non-null  int64  \n",
      " 60  LoanFirstDefaultedCycleNumber        16952 non-null   float64\n",
      " 61  LoanMonthsSinceOrigination           113937 non-null  int64  \n",
      " 62  LoanNumber                           113937 non-null  int64  \n",
      " 63  LoanOriginalAmount                   113937 non-null  int64  \n",
      " 64  LoanOriginationDate                  113937 non-null  object \n",
      " 65  LoanOriginationQuarter               113937 non-null  object \n",
      " 66  MemberKey                            113937 non-null  object \n",
      " 67  MonthlyLoanPayment                   113937 non-null  float64\n",
      " 68  LP_CustomerPayments                  113937 non-null  float64\n",
      " 69  LP_CustomerPrincipalPayments         113937 non-null  float64\n",
      " 70  LP_InterestandFees                   113937 non-null  float64\n",
      " 71  LP_ServiceFees                       113937 non-null  float64\n",
      " 72  LP_CollectionFees                    113937 non-null  float64\n",
      " 73  LP_GrossPrincipalLoss                113937 non-null  float64\n",
      " 74  LP_NetPrincipalLoss                  113937 non-null  float64\n",
      " 75  LP_NonPrincipalRecoverypayments      113937 non-null  float64\n",
      " 76  PercentFunded                        113937 non-null  float64\n",
      " 77  Recommendations                      113937 non-null  int64  \n",
      " 78  InvestmentFromFriendsCount           113937 non-null  int64  \n",
      " 79  InvestmentFromFriendsAmount          113937 non-null  float64\n",
      " 80  Investors                            113937 non-null  int64  \n",
      "dtypes: bool(3), float64(50), int64(11), object(17)\n",
      "memory usage: 68.1+ MB\n"
     ]
    }
   ],
   "source": [
    "df.info()"
   ]
  },
  {
   "cell_type": "markdown",
   "id": "346b59f5",
   "metadata": {
    "slideshow": {
     "slide_type": "skip"
    }
   },
   "source": [
    "First of all, we want to have an overlook at our data set."
   ]
  },
  {
   "cell_type": "markdown",
   "id": "659e36d3",
   "metadata": {
    "slideshow": {
     "slide_type": "slide"
    }
   },
   "source": [
    "\n",
    "### I believe the Income Range and Debt to income Ratio are going to be very useful here.\n"
   ]
  },
  {
   "cell_type": "code",
   "execution_count": 4,
   "id": "73b3eb31",
   "metadata": {
    "scrolled": true,
    "slideshow": {
     "slide_type": "skip"
    }
   },
   "outputs": [
    {
     "data": {
      "text/html": [
       "<div>\n",
       "<style scoped>\n",
       "    .dataframe tbody tr th:only-of-type {\n",
       "        vertical-align: middle;\n",
       "    }\n",
       "\n",
       "    .dataframe tbody tr th {\n",
       "        vertical-align: top;\n",
       "    }\n",
       "\n",
       "    .dataframe thead th {\n",
       "        text-align: right;\n",
       "    }\n",
       "</style>\n",
       "<table border=\"1\" class=\"dataframe\">\n",
       "  <thead>\n",
       "    <tr style=\"text-align: right;\">\n",
       "      <th></th>\n",
       "      <th>ListingKey</th>\n",
       "      <th>ListingNumber</th>\n",
       "      <th>ListingCreationDate</th>\n",
       "      <th>CreditGrade</th>\n",
       "      <th>Term</th>\n",
       "      <th>LoanStatus</th>\n",
       "      <th>ClosedDate</th>\n",
       "      <th>BorrowerAPR</th>\n",
       "      <th>BorrowerRate</th>\n",
       "      <th>LenderYield</th>\n",
       "      <th>...</th>\n",
       "      <th>LP_ServiceFees</th>\n",
       "      <th>LP_CollectionFees</th>\n",
       "      <th>LP_GrossPrincipalLoss</th>\n",
       "      <th>LP_NetPrincipalLoss</th>\n",
       "      <th>LP_NonPrincipalRecoverypayments</th>\n",
       "      <th>PercentFunded</th>\n",
       "      <th>Recommendations</th>\n",
       "      <th>InvestmentFromFriendsCount</th>\n",
       "      <th>InvestmentFromFriendsAmount</th>\n",
       "      <th>Investors</th>\n",
       "    </tr>\n",
       "  </thead>\n",
       "  <tbody>\n",
       "    <tr>\n",
       "      <th>0</th>\n",
       "      <td>1021339766868145413AB3B</td>\n",
       "      <td>193129</td>\n",
       "      <td>2007-08-26 19:09:29.263000000</td>\n",
       "      <td>C</td>\n",
       "      <td>36</td>\n",
       "      <td>Completed</td>\n",
       "      <td>2009-08-14 00:00:00</td>\n",
       "      <td>0.16516</td>\n",
       "      <td>0.1580</td>\n",
       "      <td>0.1380</td>\n",
       "      <td>...</td>\n",
       "      <td>-133.18</td>\n",
       "      <td>0.0</td>\n",
       "      <td>0.0</td>\n",
       "      <td>0.0</td>\n",
       "      <td>0.0</td>\n",
       "      <td>1.0</td>\n",
       "      <td>0</td>\n",
       "      <td>0</td>\n",
       "      <td>0.0</td>\n",
       "      <td>258</td>\n",
       "    </tr>\n",
       "    <tr>\n",
       "      <th>1</th>\n",
       "      <td>10273602499503308B223C1</td>\n",
       "      <td>1209647</td>\n",
       "      <td>2014-02-27 08:28:07.900000000</td>\n",
       "      <td>NaN</td>\n",
       "      <td>36</td>\n",
       "      <td>Current</td>\n",
       "      <td>NaN</td>\n",
       "      <td>0.12016</td>\n",
       "      <td>0.0920</td>\n",
       "      <td>0.0820</td>\n",
       "      <td>...</td>\n",
       "      <td>0.00</td>\n",
       "      <td>0.0</td>\n",
       "      <td>0.0</td>\n",
       "      <td>0.0</td>\n",
       "      <td>0.0</td>\n",
       "      <td>1.0</td>\n",
       "      <td>0</td>\n",
       "      <td>0</td>\n",
       "      <td>0.0</td>\n",
       "      <td>1</td>\n",
       "    </tr>\n",
       "    <tr>\n",
       "      <th>2</th>\n",
       "      <td>0EE9337825851032864889A</td>\n",
       "      <td>81716</td>\n",
       "      <td>2007-01-05 15:00:47.090000000</td>\n",
       "      <td>HR</td>\n",
       "      <td>36</td>\n",
       "      <td>Completed</td>\n",
       "      <td>2009-12-17 00:00:00</td>\n",
       "      <td>0.28269</td>\n",
       "      <td>0.2750</td>\n",
       "      <td>0.2400</td>\n",
       "      <td>...</td>\n",
       "      <td>-24.20</td>\n",
       "      <td>0.0</td>\n",
       "      <td>0.0</td>\n",
       "      <td>0.0</td>\n",
       "      <td>0.0</td>\n",
       "      <td>1.0</td>\n",
       "      <td>0</td>\n",
       "      <td>0</td>\n",
       "      <td>0.0</td>\n",
       "      <td>41</td>\n",
       "    </tr>\n",
       "    <tr>\n",
       "      <th>3</th>\n",
       "      <td>0EF5356002482715299901A</td>\n",
       "      <td>658116</td>\n",
       "      <td>2012-10-22 11:02:35.010000000</td>\n",
       "      <td>NaN</td>\n",
       "      <td>36</td>\n",
       "      <td>Current</td>\n",
       "      <td>NaN</td>\n",
       "      <td>0.12528</td>\n",
       "      <td>0.0974</td>\n",
       "      <td>0.0874</td>\n",
       "      <td>...</td>\n",
       "      <td>-108.01</td>\n",
       "      <td>0.0</td>\n",
       "      <td>0.0</td>\n",
       "      <td>0.0</td>\n",
       "      <td>0.0</td>\n",
       "      <td>1.0</td>\n",
       "      <td>0</td>\n",
       "      <td>0</td>\n",
       "      <td>0.0</td>\n",
       "      <td>158</td>\n",
       "    </tr>\n",
       "    <tr>\n",
       "      <th>4</th>\n",
       "      <td>0F023589499656230C5E3E2</td>\n",
       "      <td>909464</td>\n",
       "      <td>2013-09-14 18:38:39.097000000</td>\n",
       "      <td>NaN</td>\n",
       "      <td>36</td>\n",
       "      <td>Current</td>\n",
       "      <td>NaN</td>\n",
       "      <td>0.24614</td>\n",
       "      <td>0.2085</td>\n",
       "      <td>0.1985</td>\n",
       "      <td>...</td>\n",
       "      <td>-60.27</td>\n",
       "      <td>0.0</td>\n",
       "      <td>0.0</td>\n",
       "      <td>0.0</td>\n",
       "      <td>0.0</td>\n",
       "      <td>1.0</td>\n",
       "      <td>0</td>\n",
       "      <td>0</td>\n",
       "      <td>0.0</td>\n",
       "      <td>20</td>\n",
       "    </tr>\n",
       "  </tbody>\n",
       "</table>\n",
       "<p>5 rows × 81 columns</p>\n",
       "</div>"
      ],
      "text/plain": [
       "                ListingKey  ListingNumber            ListingCreationDate  \\\n",
       "0  1021339766868145413AB3B         193129  2007-08-26 19:09:29.263000000   \n",
       "1  10273602499503308B223C1        1209647  2014-02-27 08:28:07.900000000   \n",
       "2  0EE9337825851032864889A          81716  2007-01-05 15:00:47.090000000   \n",
       "3  0EF5356002482715299901A         658116  2012-10-22 11:02:35.010000000   \n",
       "4  0F023589499656230C5E3E2         909464  2013-09-14 18:38:39.097000000   \n",
       "\n",
       "  CreditGrade  Term LoanStatus           ClosedDate  BorrowerAPR  \\\n",
       "0           C    36  Completed  2009-08-14 00:00:00      0.16516   \n",
       "1         NaN    36    Current                  NaN      0.12016   \n",
       "2          HR    36  Completed  2009-12-17 00:00:00      0.28269   \n",
       "3         NaN    36    Current                  NaN      0.12528   \n",
       "4         NaN    36    Current                  NaN      0.24614   \n",
       "\n",
       "   BorrowerRate  LenderYield  ...  LP_ServiceFees  LP_CollectionFees  \\\n",
       "0        0.1580       0.1380  ...         -133.18                0.0   \n",
       "1        0.0920       0.0820  ...            0.00                0.0   \n",
       "2        0.2750       0.2400  ...          -24.20                0.0   \n",
       "3        0.0974       0.0874  ...         -108.01                0.0   \n",
       "4        0.2085       0.1985  ...          -60.27                0.0   \n",
       "\n",
       "   LP_GrossPrincipalLoss  LP_NetPrincipalLoss LP_NonPrincipalRecoverypayments  \\\n",
       "0                    0.0                  0.0                             0.0   \n",
       "1                    0.0                  0.0                             0.0   \n",
       "2                    0.0                  0.0                             0.0   \n",
       "3                    0.0                  0.0                             0.0   \n",
       "4                    0.0                  0.0                             0.0   \n",
       "\n",
       "   PercentFunded  Recommendations InvestmentFromFriendsCount  \\\n",
       "0            1.0                0                          0   \n",
       "1            1.0                0                          0   \n",
       "2            1.0                0                          0   \n",
       "3            1.0                0                          0   \n",
       "4            1.0                0                          0   \n",
       "\n",
       "  InvestmentFromFriendsAmount Investors  \n",
       "0                         0.0       258  \n",
       "1                         0.0         1  \n",
       "2                         0.0        41  \n",
       "3                         0.0       158  \n",
       "4                         0.0        20  \n",
       "\n",
       "[5 rows x 81 columns]"
      ]
     },
     "execution_count": 4,
     "metadata": {},
     "output_type": "execute_result"
    }
   ],
   "source": [
    "df.head()"
   ]
  },
  {
   "cell_type": "code",
   "execution_count": 5,
   "id": "6c3abaee",
   "metadata": {
    "scrolled": false,
    "slideshow": {
     "slide_type": "skip"
    }
   },
   "outputs": [],
   "source": [
    "pd.set_option('display.max_rows',100)\n",
    "pd.set_option('display.max_columns',100)"
   ]
  },
  {
   "cell_type": "code",
   "execution_count": 6,
   "id": "6daa82eb",
   "metadata": {
    "slideshow": {
     "slide_type": "skip"
    }
   },
   "outputs": [],
   "source": [
    "#Here we filter our data choosing only the factors that we believe are related the most to Borrower APR.\n",
    "df2 =df.drop(df.columns[[0,1,2,3,4,5,6,78,79,64,65,66,67,68,69,70,71,72,73,74,75,76,77,50,51,52,53,54,55,56\\\n",
    "                         ,57,58,59,60,61,62,21,22,23,24,25,26,27,28,29,30,31,32,33,34,35,36,37,38,39\\\n",
    "                        ,40,41,42,43,44,45]],axis=1)"
   ]
  },
  {
   "cell_type": "markdown",
   "id": "8acbf02a",
   "metadata": {
    "slideshow": {
     "slide_type": "skip"
    }
   },
   "source": [
    "Here we want to have a look at the data we have regarding types and null values "
   ]
  },
  {
   "cell_type": "code",
   "execution_count": 7,
   "id": "0914f5fc",
   "metadata": {
    "slideshow": {
     "slide_type": "skip"
    }
   },
   "outputs": [
    {
     "name": "stdout",
     "output_type": "stream",
     "text": [
      "<class 'pandas.core.frame.DataFrame'>\n",
      "RangeIndex: 113937 entries, 0 to 113936\n",
      "Data columns (total 20 columns):\n",
      " #   Column                     Non-Null Count   Dtype  \n",
      "---  ------                     --------------   -----  \n",
      " 0   BorrowerAPR                113912 non-null  float64\n",
      " 1   BorrowerRate               113937 non-null  float64\n",
      " 2   LenderYield                113937 non-null  float64\n",
      " 3   EstimatedEffectiveYield    84853 non-null   float64\n",
      " 4   EstimatedLoss              84853 non-null   float64\n",
      " 5   EstimatedReturn            84853 non-null   float64\n",
      " 6   ProsperRating (numeric)    84853 non-null   float64\n",
      " 7   ProsperRating (Alpha)      84853 non-null   object \n",
      " 8   ProsperScore               84853 non-null   float64\n",
      " 9   ListingCategory (numeric)  113937 non-null  int64  \n",
      " 10  BorrowerState              108422 non-null  object \n",
      " 11  Occupation                 110349 non-null  object \n",
      " 12  EmploymentStatus           111682 non-null  object \n",
      " 13  EmploymentStatusDuration   106312 non-null  float64\n",
      " 14  DebtToIncomeRatio          105383 non-null  float64\n",
      " 15  IncomeRange                113937 non-null  object \n",
      " 16  IncomeVerifiable           113937 non-null  bool   \n",
      " 17  StatedMonthlyIncome        113937 non-null  float64\n",
      " 18  LoanOriginalAmount         113937 non-null  int64  \n",
      " 19  Investors                  113937 non-null  int64  \n",
      "dtypes: bool(1), float64(11), int64(3), object(5)\n",
      "memory usage: 16.6+ MB\n"
     ]
    }
   ],
   "source": [
    "df2.info()"
   ]
  },
  {
   "cell_type": "code",
   "execution_count": 8,
   "id": "67693980",
   "metadata": {
    "scrolled": true,
    "slideshow": {
     "slide_type": "skip"
    }
   },
   "outputs": [
    {
     "data": {
      "text/html": [
       "<div>\n",
       "<style scoped>\n",
       "    .dataframe tbody tr th:only-of-type {\n",
       "        vertical-align: middle;\n",
       "    }\n",
       "\n",
       "    .dataframe tbody tr th {\n",
       "        vertical-align: top;\n",
       "    }\n",
       "\n",
       "    .dataframe thead th {\n",
       "        text-align: right;\n",
       "    }\n",
       "</style>\n",
       "<table border=\"1\" class=\"dataframe\">\n",
       "  <thead>\n",
       "    <tr style=\"text-align: right;\">\n",
       "      <th></th>\n",
       "      <th>BorrowerAPR</th>\n",
       "      <th>BorrowerRate</th>\n",
       "      <th>LenderYield</th>\n",
       "      <th>EstimatedEffectiveYield</th>\n",
       "      <th>EstimatedLoss</th>\n",
       "      <th>EstimatedReturn</th>\n",
       "      <th>ProsperRating (numeric)</th>\n",
       "      <th>ProsperRating (Alpha)</th>\n",
       "      <th>ProsperScore</th>\n",
       "      <th>ListingCategory (numeric)</th>\n",
       "      <th>BorrowerState</th>\n",
       "      <th>Occupation</th>\n",
       "      <th>EmploymentStatus</th>\n",
       "      <th>EmploymentStatusDuration</th>\n",
       "      <th>DebtToIncomeRatio</th>\n",
       "      <th>IncomeRange</th>\n",
       "      <th>IncomeVerifiable</th>\n",
       "      <th>StatedMonthlyIncome</th>\n",
       "      <th>LoanOriginalAmount</th>\n",
       "      <th>Investors</th>\n",
       "    </tr>\n",
       "  </thead>\n",
       "  <tbody>\n",
       "    <tr>\n",
       "      <th>0</th>\n",
       "      <td>0.16516</td>\n",
       "      <td>0.1580</td>\n",
       "      <td>0.1380</td>\n",
       "      <td>NaN</td>\n",
       "      <td>NaN</td>\n",
       "      <td>NaN</td>\n",
       "      <td>NaN</td>\n",
       "      <td>NaN</td>\n",
       "      <td>NaN</td>\n",
       "      <td>0</td>\n",
       "      <td>CO</td>\n",
       "      <td>Other</td>\n",
       "      <td>Self-employed</td>\n",
       "      <td>2.0</td>\n",
       "      <td>0.17</td>\n",
       "      <td>$25,000-49,999</td>\n",
       "      <td>True</td>\n",
       "      <td>3083.333333</td>\n",
       "      <td>9425</td>\n",
       "      <td>258</td>\n",
       "    </tr>\n",
       "    <tr>\n",
       "      <th>1</th>\n",
       "      <td>0.12016</td>\n",
       "      <td>0.0920</td>\n",
       "      <td>0.0820</td>\n",
       "      <td>0.07960</td>\n",
       "      <td>0.0249</td>\n",
       "      <td>0.05470</td>\n",
       "      <td>6.0</td>\n",
       "      <td>A</td>\n",
       "      <td>7.0</td>\n",
       "      <td>2</td>\n",
       "      <td>CO</td>\n",
       "      <td>Professional</td>\n",
       "      <td>Employed</td>\n",
       "      <td>44.0</td>\n",
       "      <td>0.18</td>\n",
       "      <td>$50,000-74,999</td>\n",
       "      <td>True</td>\n",
       "      <td>6125.000000</td>\n",
       "      <td>10000</td>\n",
       "      <td>1</td>\n",
       "    </tr>\n",
       "    <tr>\n",
       "      <th>2</th>\n",
       "      <td>0.28269</td>\n",
       "      <td>0.2750</td>\n",
       "      <td>0.2400</td>\n",
       "      <td>NaN</td>\n",
       "      <td>NaN</td>\n",
       "      <td>NaN</td>\n",
       "      <td>NaN</td>\n",
       "      <td>NaN</td>\n",
       "      <td>NaN</td>\n",
       "      <td>0</td>\n",
       "      <td>GA</td>\n",
       "      <td>Other</td>\n",
       "      <td>Not available</td>\n",
       "      <td>NaN</td>\n",
       "      <td>0.06</td>\n",
       "      <td>Not displayed</td>\n",
       "      <td>True</td>\n",
       "      <td>2083.333333</td>\n",
       "      <td>3001</td>\n",
       "      <td>41</td>\n",
       "    </tr>\n",
       "    <tr>\n",
       "      <th>3</th>\n",
       "      <td>0.12528</td>\n",
       "      <td>0.0974</td>\n",
       "      <td>0.0874</td>\n",
       "      <td>0.08490</td>\n",
       "      <td>0.0249</td>\n",
       "      <td>0.06000</td>\n",
       "      <td>6.0</td>\n",
       "      <td>A</td>\n",
       "      <td>9.0</td>\n",
       "      <td>16</td>\n",
       "      <td>GA</td>\n",
       "      <td>Skilled Labor</td>\n",
       "      <td>Employed</td>\n",
       "      <td>113.0</td>\n",
       "      <td>0.15</td>\n",
       "      <td>$25,000-49,999</td>\n",
       "      <td>True</td>\n",
       "      <td>2875.000000</td>\n",
       "      <td>10000</td>\n",
       "      <td>158</td>\n",
       "    </tr>\n",
       "    <tr>\n",
       "      <th>4</th>\n",
       "      <td>0.24614</td>\n",
       "      <td>0.2085</td>\n",
       "      <td>0.1985</td>\n",
       "      <td>0.18316</td>\n",
       "      <td>0.0925</td>\n",
       "      <td>0.09066</td>\n",
       "      <td>3.0</td>\n",
       "      <td>D</td>\n",
       "      <td>4.0</td>\n",
       "      <td>2</td>\n",
       "      <td>MN</td>\n",
       "      <td>Executive</td>\n",
       "      <td>Employed</td>\n",
       "      <td>44.0</td>\n",
       "      <td>0.26</td>\n",
       "      <td>$100,000+</td>\n",
       "      <td>True</td>\n",
       "      <td>9583.333333</td>\n",
       "      <td>15000</td>\n",
       "      <td>20</td>\n",
       "    </tr>\n",
       "  </tbody>\n",
       "</table>\n",
       "</div>"
      ],
      "text/plain": [
       "   BorrowerAPR  BorrowerRate  LenderYield  EstimatedEffectiveYield  \\\n",
       "0      0.16516        0.1580       0.1380                      NaN   \n",
       "1      0.12016        0.0920       0.0820                  0.07960   \n",
       "2      0.28269        0.2750       0.2400                      NaN   \n",
       "3      0.12528        0.0974       0.0874                  0.08490   \n",
       "4      0.24614        0.2085       0.1985                  0.18316   \n",
       "\n",
       "   EstimatedLoss  EstimatedReturn  ProsperRating (numeric)  \\\n",
       "0            NaN              NaN                      NaN   \n",
       "1         0.0249          0.05470                      6.0   \n",
       "2            NaN              NaN                      NaN   \n",
       "3         0.0249          0.06000                      6.0   \n",
       "4         0.0925          0.09066                      3.0   \n",
       "\n",
       "  ProsperRating (Alpha)  ProsperScore  ListingCategory (numeric)  \\\n",
       "0                   NaN           NaN                          0   \n",
       "1                     A           7.0                          2   \n",
       "2                   NaN           NaN                          0   \n",
       "3                     A           9.0                         16   \n",
       "4                     D           4.0                          2   \n",
       "\n",
       "  BorrowerState     Occupation EmploymentStatus  EmploymentStatusDuration  \\\n",
       "0            CO          Other    Self-employed                       2.0   \n",
       "1            CO   Professional         Employed                      44.0   \n",
       "2            GA          Other    Not available                       NaN   \n",
       "3            GA  Skilled Labor         Employed                     113.0   \n",
       "4            MN      Executive         Employed                      44.0   \n",
       "\n",
       "   DebtToIncomeRatio     IncomeRange  IncomeVerifiable  StatedMonthlyIncome  \\\n",
       "0               0.17  $25,000-49,999              True          3083.333333   \n",
       "1               0.18  $50,000-74,999              True          6125.000000   \n",
       "2               0.06   Not displayed              True          2083.333333   \n",
       "3               0.15  $25,000-49,999              True          2875.000000   \n",
       "4               0.26       $100,000+              True          9583.333333   \n",
       "\n",
       "   LoanOriginalAmount  Investors  \n",
       "0                9425        258  \n",
       "1               10000          1  \n",
       "2                3001         41  \n",
       "3               10000        158  \n",
       "4               15000         20  "
      ]
     },
     "execution_count": 8,
     "metadata": {},
     "output_type": "execute_result"
    }
   ],
   "source": [
    "df2.head()"
   ]
  },
  {
   "cell_type": "markdown",
   "id": "8566df8e",
   "metadata": {
    "slideshow": {
     "slide_type": "skip"
    }
   },
   "source": [
    "After looking at the missing observations, I decided to drop the NaN values as we can't substitute 30,000+ observations with the ean or median as this would be misleading, also we still have more than 70,000 observations that can describe ourdata accurately, so we sacrificed size for accuracy without really sacrificing size."
   ]
  },
  {
   "cell_type": "code",
   "execution_count": 9,
   "id": "d69ba86e",
   "metadata": {
    "slideshow": {
     "slide_type": "skip"
    }
   },
   "outputs": [
    {
     "name": "stdout",
     "output_type": "stream",
     "text": [
      "<class 'pandas.core.frame.DataFrame'>\n",
      "Int64Index: 76216 entries, 1 to 113936\n",
      "Data columns (total 20 columns):\n",
      " #   Column                     Non-Null Count  Dtype  \n",
      "---  ------                     --------------  -----  \n",
      " 0   BorrowerAPR                76216 non-null  float64\n",
      " 1   BorrowerRate               76216 non-null  float64\n",
      " 2   LenderYield                76216 non-null  float64\n",
      " 3   EstimatedEffectiveYield    76216 non-null  float64\n",
      " 4   EstimatedLoss              76216 non-null  float64\n",
      " 5   EstimatedReturn            76216 non-null  float64\n",
      " 6   ProsperRating (numeric)    76216 non-null  float64\n",
      " 7   ProsperRating (Alpha)      76216 non-null  object \n",
      " 8   ProsperScore               76216 non-null  float64\n",
      " 9   ListingCategory (numeric)  76216 non-null  int64  \n",
      " 10  BorrowerState              76216 non-null  object \n",
      " 11  Occupation                 76216 non-null  object \n",
      " 12  EmploymentStatus           76216 non-null  object \n",
      " 13  EmploymentStatusDuration   76216 non-null  float64\n",
      " 14  DebtToIncomeRatio          76216 non-null  float64\n",
      " 15  IncomeRange                76216 non-null  object \n",
      " 16  IncomeVerifiable           76216 non-null  bool   \n",
      " 17  StatedMonthlyIncome        76216 non-null  float64\n",
      " 18  LoanOriginalAmount         76216 non-null  int64  \n",
      " 19  Investors                  76216 non-null  int64  \n",
      "dtypes: bool(1), float64(11), int64(3), object(5)\n",
      "memory usage: 11.7+ MB\n"
     ]
    }
   ],
   "source": [
    "df2 = df2.dropna()\n",
    "df2.info()"
   ]
  },
  {
   "cell_type": "markdown",
   "id": "d6789ad5",
   "metadata": {},
   "source": [
    "### First: Univariate Analysis:"
   ]
  },
  {
   "cell_type": "markdown",
   "id": "362d31aa",
   "metadata": {
    "slideshow": {
     "slide_type": "slide"
    }
   },
   "source": [
    "## Distribution of Borrower APR\n",
    "\n",
    "- We can see here the distribution is a multimodal one values ranging from 0.04 to 0.42 and a mean of 0.22."
   ]
  },
  {
   "cell_type": "code",
   "execution_count": 38,
   "id": "1f2adea5",
   "metadata": {
    "slideshow": {
     "slide_type": "subslide"
    }
   },
   "outputs": [
    {
     "data": {
      "image/png": "[encoded data removed]",
      "text/plain": [
       "<Figure size 432x288 with 1 Axes>"
      ]
     },
     "metadata": {
      "needs_background": "light"
     },
     "output_type": "display_data"
    }
   ],
   "source": [
    "#Looking at our main variable the Borrower's Annual Percentage Rate\n",
    "plt.hist(df2.BorrowerAPR,bins=20)\n",
    "plt.ylabel('Count')\n",
    "plt.xlabel('Borrower APR')\n",
    "plt.title('Borrower APR Distribution');"
   ]
  },
  {
   "cell_type": "markdown",
   "id": "3328db13",
   "metadata": {
    "slideshow": {
     "slide_type": "skip"
    }
   },
   "source": [
    "We can see that the distribution is normal especially if we decrease the bin sizes it will appear even better but I have chosen this size for clarity, the mean should be at around 0.22 slightly dragged towards the right edge of the mid area because of the high density at 0.36."
   ]
  },
  {
   "cell_type": "code",
   "execution_count": 11,
   "id": "1bf08b35",
   "metadata": {
    "scrolled": true,
    "slideshow": {
     "slide_type": "skip"
    }
   },
   "outputs": [
    {
     "data": {
      "image/png": "[encoded data removed]",
      "text/plain": [
       "<Figure size 432x288 with 1 Axes>"
      ]
     },
     "metadata": {
      "needs_background": "light"
     },
     "output_type": "display_data"
    }
   ],
   "source": [
    "#Here we explore the distribution of the Stated Monthly Income \n",
    "\n",
    "plt.hist(data=df2,x='StatedMonthlyIncome')\n",
    "plt.xlabel('Stated Monthly Income');\n"
   ]
  },
  {
   "cell_type": "markdown",
   "id": "16109e90",
   "metadata": {
    "slideshow": {
     "slide_type": "skip"
    }
   },
   "source": [
    "There are Obviously some outliers so let's have a look at the statistics of the data."
   ]
  },
  {
   "cell_type": "code",
   "execution_count": 12,
   "id": "cf8557f9",
   "metadata": {
    "scrolled": true,
    "slideshow": {
     "slide_type": "skip"
    }
   },
   "outputs": [
    {
     "data": {
      "text/html": [
       "<div>\n",
       "<style scoped>\n",
       "    .dataframe tbody tr th:only-of-type {\n",
       "        vertical-align: middle;\n",
       "    }\n",
       "\n",
       "    .dataframe tbody tr th {\n",
       "        vertical-align: top;\n",
       "    }\n",
       "\n",
       "    .dataframe thead th {\n",
       "        text-align: right;\n",
       "    }\n",
       "</style>\n",
       "<table border=\"1\" class=\"dataframe\">\n",
       "  <thead>\n",
       "    <tr style=\"text-align: right;\">\n",
       "      <th></th>\n",
       "      <th>BorrowerAPR</th>\n",
       "      <th>BorrowerRate</th>\n",
       "      <th>LenderYield</th>\n",
       "      <th>EstimatedEffectiveYield</th>\n",
       "      <th>EstimatedLoss</th>\n",
       "      <th>EstimatedReturn</th>\n",
       "      <th>ProsperRating (numeric)</th>\n",
       "      <th>ProsperScore</th>\n",
       "      <th>ListingCategory (numeric)</th>\n",
       "      <th>EmploymentStatusDuration</th>\n",
       "      <th>DebtToIncomeRatio</th>\n",
       "      <th>StatedMonthlyIncome</th>\n",
       "      <th>LoanOriginalAmount</th>\n",
       "      <th>Investors</th>\n",
       "    </tr>\n",
       "  </thead>\n",
       "  <tbody>\n",
       "    <tr>\n",
       "      <th>count</th>\n",
       "      <td>76216.000000</td>\n",
       "      <td>76216.000000</td>\n",
       "      <td>76216.000000</td>\n",
       "      <td>76216.000000</td>\n",
       "      <td>76216.000000</td>\n",
       "      <td>76216.000000</td>\n",
       "      <td>76216.000000</td>\n",
       "      <td>76216.000000</td>\n",
       "      <td>76216.000000</td>\n",
       "      <td>76216.000000</td>\n",
       "      <td>76216.000000</td>\n",
       "      <td>76216.000000</td>\n",
       "      <td>76216.000000</td>\n",
       "      <td>76216.000000</td>\n",
       "    </tr>\n",
       "    <tr>\n",
       "      <th>mean</th>\n",
       "      <td>0.223901</td>\n",
       "      <td>0.193621</td>\n",
       "      <td>0.183616</td>\n",
       "      <td>0.166738</td>\n",
       "      <td>0.078611</td>\n",
       "      <td>0.095528</td>\n",
       "      <td>4.132413</td>\n",
       "      <td>6.080246</td>\n",
       "      <td>3.302259</td>\n",
       "      <td>104.578028</td>\n",
       "      <td>0.258032</td>\n",
       "      <td>6002.833586</td>\n",
       "      <td>9294.999410</td>\n",
       "      <td>69.998517</td>\n",
       "    </tr>\n",
       "    <tr>\n",
       "      <th>std</th>\n",
       "      <td>0.079372</td>\n",
       "      <td>0.074088</td>\n",
       "      <td>0.074088</td>\n",
       "      <td>0.067595</td>\n",
       "      <td>0.046047</td>\n",
       "      <td>0.030031</td>\n",
       "      <td>1.661460</td>\n",
       "      <td>2.360640</td>\n",
       "      <td>4.396670</td>\n",
       "      <td>95.836443</td>\n",
       "      <td>0.320587</td>\n",
       "      <td>5110.743506</td>\n",
       "      <td>6413.404265</td>\n",
       "      <td>97.801415</td>\n",
       "    </tr>\n",
       "    <tr>\n",
       "      <th>min</th>\n",
       "      <td>0.045830</td>\n",
       "      <td>0.040000</td>\n",
       "      <td>0.030000</td>\n",
       "      <td>-0.181600</td>\n",
       "      <td>0.004900</td>\n",
       "      <td>-0.181600</td>\n",
       "      <td>1.000000</td>\n",
       "      <td>1.000000</td>\n",
       "      <td>0.000000</td>\n",
       "      <td>0.000000</td>\n",
       "      <td>0.000000</td>\n",
       "      <td>0.250000</td>\n",
       "      <td>1000.000000</td>\n",
       "      <td>1.000000</td>\n",
       "    </tr>\n",
       "    <tr>\n",
       "      <th>25%</th>\n",
       "      <td>0.161570</td>\n",
       "      <td>0.134900</td>\n",
       "      <td>0.124900</td>\n",
       "      <td>0.114800</td>\n",
       "      <td>0.042000</td>\n",
       "      <td>0.074080</td>\n",
       "      <td>3.000000</td>\n",
       "      <td>4.000000</td>\n",
       "      <td>1.000000</td>\n",
       "      <td>32.000000</td>\n",
       "      <td>0.150000</td>\n",
       "      <td>3583.333333</td>\n",
       "      <td>4000.000000</td>\n",
       "      <td>1.000000</td>\n",
       "    </tr>\n",
       "    <tr>\n",
       "      <th>50%</th>\n",
       "      <td>0.215660</td>\n",
       "      <td>0.184500</td>\n",
       "      <td>0.174500</td>\n",
       "      <td>0.157670</td>\n",
       "      <td>0.069900</td>\n",
       "      <td>0.091100</td>\n",
       "      <td>4.000000</td>\n",
       "      <td>6.000000</td>\n",
       "      <td>1.000000</td>\n",
       "      <td>76.000000</td>\n",
       "      <td>0.220000</td>\n",
       "      <td>5041.666667</td>\n",
       "      <td>8000.000000</td>\n",
       "      <td>32.000000</td>\n",
       "    </tr>\n",
       "    <tr>\n",
       "      <th>75%</th>\n",
       "      <td>0.287800</td>\n",
       "      <td>0.254900</td>\n",
       "      <td>0.244900</td>\n",
       "      <td>0.219000</td>\n",
       "      <td>0.108000</td>\n",
       "      <td>0.115000</td>\n",
       "      <td>5.000000</td>\n",
       "      <td>8.000000</td>\n",
       "      <td>3.000000</td>\n",
       "      <td>150.000000</td>\n",
       "      <td>0.320000</td>\n",
       "      <td>7250.000000</td>\n",
       "      <td>14603.250000</td>\n",
       "      <td>100.000000</td>\n",
       "    </tr>\n",
       "    <tr>\n",
       "      <th>max</th>\n",
       "      <td>0.423950</td>\n",
       "      <td>0.360000</td>\n",
       "      <td>0.340000</td>\n",
       "      <td>0.319900</td>\n",
       "      <td>0.366000</td>\n",
       "      <td>0.266700</td>\n",
       "      <td>7.000000</td>\n",
       "      <td>11.000000</td>\n",
       "      <td>20.000000</td>\n",
       "      <td>755.000000</td>\n",
       "      <td>10.010000</td>\n",
       "      <td>483333.333333</td>\n",
       "      <td>35000.000000</td>\n",
       "      <td>1189.000000</td>\n",
       "    </tr>\n",
       "  </tbody>\n",
       "</table>\n",
       "</div>"
      ],
      "text/plain": [
       "        BorrowerAPR  BorrowerRate   LenderYield  EstimatedEffectiveYield  \\\n",
       "count  76216.000000  76216.000000  76216.000000             76216.000000   \n",
       "mean       0.223901      0.193621      0.183616                 0.166738   \n",
       "std        0.079372      0.074088      0.074088                 0.067595   \n",
       "min        0.045830      0.040000      0.030000                -0.181600   \n",
       "25%        0.161570      0.134900      0.124900                 0.114800   \n",
       "50%        0.215660      0.184500      0.174500                 0.157670   \n",
       "75%        0.287800      0.254900      0.244900                 0.219000   \n",
       "max        0.423950      0.360000      0.340000                 0.319900   \n",
       "\n",
       "       EstimatedLoss  EstimatedReturn  ProsperRating (numeric)  ProsperScore  \\\n",
       "count   76216.000000     76216.000000             76216.000000  76216.000000   \n",
       "mean        0.078611         0.095528                 4.132413      6.080246   \n",
       "std         0.046047         0.030031                 1.661460      2.360640   \n",
       "min         0.004900        -0.181600                 1.000000      1.000000   \n",
       "25%         0.042000         0.074080                 3.000000      4.000000   \n",
       "50%         0.069900         0.091100                 4.000000      6.000000   \n",
       "75%         0.108000         0.115000                 5.000000      8.000000   \n",
       "max         0.366000         0.266700                 7.000000     11.000000   \n",
       "\n",
       "       ListingCategory (numeric)  EmploymentStatusDuration  DebtToIncomeRatio  \\\n",
       "count               76216.000000              76216.000000       76216.000000   \n",
       "mean                    3.302259                104.578028           0.258032   \n",
       "std                     4.396670                 95.836443           0.320587   \n",
       "min                     0.000000                  0.000000           0.000000   \n",
       "25%                     1.000000                 32.000000           0.150000   \n",
       "50%                     1.000000                 76.000000           0.220000   \n",
       "75%                     3.000000                150.000000           0.320000   \n",
       "max                    20.000000                755.000000          10.010000   \n",
       "\n",
       "       StatedMonthlyIncome  LoanOriginalAmount     Investors  \n",
       "count         76216.000000        76216.000000  76216.000000  \n",
       "mean           6002.833586         9294.999410     69.998517  \n",
       "std            5110.743506         6413.404265     97.801415  \n",
       "min               0.250000         1000.000000      1.000000  \n",
       "25%            3583.333333         4000.000000      1.000000  \n",
       "50%            5041.666667         8000.000000     32.000000  \n",
       "75%            7250.000000        14603.250000    100.000000  \n",
       "max          483333.333333        35000.000000   1189.000000  "
      ]
     },
     "execution_count": 12,
     "metadata": {},
     "output_type": "execute_result"
    }
   ],
   "source": [
    "# Here we can havea broader look at the outliers compared to the rest of the data statistically\n",
    "df2.describe()"
   ]
  },
  {
   "cell_type": "markdown",
   "id": "2033ab2e",
   "metadata": {
    "slideshow": {
     "slide_type": "skip"
    }
   },
   "source": [
    "As we saw earlier, we do have some outliers and -ve values that tend to drag the graph to right as the max reported income is 48000, while our mean is approx. 6000."
   ]
  },
  {
   "cell_type": "code",
   "execution_count": 13,
   "id": "3d7eaecf",
   "metadata": {
    "scrolled": true,
    "slideshow": {
     "slide_type": "skip"
    }
   },
   "outputs": [
    {
     "data": {
      "text/plain": [
       "(0.0, 15000.0)"
      ]
     },
     "execution_count": 13,
     "metadata": {},
     "output_type": "execute_result"
    },
    {
     "data": {
      "image/png": "[encoded data removed]",
      "text/plain": [
       "<Figure size 432x288 with 1 Axes>"
      ]
     },
     "metadata": {
      "needs_background": "light"
     },
     "output_type": "display_data"
    }
   ],
   "source": [
    "plt.hist(data=df2,x='StatedMonthlyIncome',bins=1000)\n",
    "plt.xlabel('Stated Monthly Income');\n",
    "plt.xlim(0,15000)"
   ]
  },
  {
   "cell_type": "markdown",
   "id": "0a3d94d7",
   "metadata": {
    "slideshow": {
     "slide_type": "skip"
    }
   },
   "source": [
    "We can see here that the distribution of reported monthly incomes is normal around the range 0 t0 9000 but with a long tail for values bigger than that, so the distribution is considered to be right skewed which has been caused by many individual who have reported incomes way higher than average incomes (Typically higher than mean * 1.6 )."
   ]
  },
  {
   "cell_type": "markdown",
   "id": "cced96b5",
   "metadata": {
    "slideshow": {
     "slide_type": "skip"
    }
   },
   "source": [
    "I thought about changing the bins to be of logarithmic but given the outliers and the spread of the distribution I gave that thought up."
   ]
  },
  {
   "cell_type": "code",
   "execution_count": 14,
   "id": "1bff4ba1",
   "metadata": {
    "slideshow": {
     "slide_type": "skip"
    }
   },
   "outputs": [
    {
     "name": "stderr",
     "output_type": "stream",
     "text": [
      "D:\\Programs\\AnacondaPython\\lib\\site-packages\\seaborn\\distributions.py:2557: FutureWarning: `distplot` is a deprecated function and will be removed in a future version. Please adapt your code to use either `displot` (a figure-level function with similar flexibility) or `histplot` (an axes-level function for histograms).\n",
      "  warnings.warn(msg, FutureWarning)\n"
     ]
    },
    {
     "data": {
      "image/png": "[encoded data removed]",
      "text/plain": [
       "<Figure size 1440x360 with 2 Axes>"
      ]
     },
     "metadata": {
      "needs_background": "light"
     },
     "output_type": "display_data"
    }
   ],
   "source": [
    "#Let's now look at the debt to income ratio, we need to trim it also as we have max value of 10 but an average of 0.26\n",
    "\n",
    "plt.figure(figsize= [20,5])\n",
    "\n",
    "plt.subplot(1,2,1)\n",
    "plt.hist(x=df2.DebtToIncomeRatio,bins=100)\n",
    "plt.xlabel(\"Debt To Income Ratio\");\n",
    "\n",
    "plt.subplot(1,2,2)\n",
    "sns.distplot(x=df2.DebtToIncomeRatio,kde=True,bins=1000)\n",
    "plt.xlim(0,0.7)\n",
    "plt.xlabel(\"Debt To Income Ratio\");"
   ]
  },
  {
   "cell_type": "markdown",
   "id": "2ac433e2",
   "metadata": {
    "slideshow": {
     "slide_type": "skip"
    }
   },
   "source": [
    "we used seaborn side to side with matplotlib to show the effect of changing bin sizes and trimming the graph and it's definitely more informative that way."
   ]
  },
  {
   "cell_type": "markdown",
   "id": "805520f1",
   "metadata": {
    "slideshow": {
     "slide_type": "slide"
    }
   },
   "source": [
    "## Distribution of Income Ranges:\n",
    "\n",
    "- We can see here that the highest demand on loans comes from those who earn 50k to 75k USD, and the lowest is for those who are not employed, they tend not to take loans."
   ]
  },
  {
   "cell_type": "code",
   "execution_count": 15,
   "id": "054f96b4",
   "metadata": {
    "slideshow": {
     "slide_type": "subslide"
    }
   },
   "outputs": [
    {
     "data": {
      "image/png": "[encoded data removed]",
      "text/plain": [
       "<Figure size 720x360 with 1 Axes>"
      ]
     },
     "metadata": {
      "needs_background": "light"
     },
     "output_type": "display_data"
    }
   ],
   "source": [
    "#Now let's look at the distribution of the occupations\n",
    "fig,ax =plt.subplots(figsize=(10,5))\n",
    "sns.countplot(x=df2.IncomeRange,color= sns.color_palette()[0])\n",
    "#plt.xticks(rotation=15)\n",
    "plt.title('Income Range Distribution')\n",
    "plt.ylabel('Count')\n",
    "plt.xlabel(\"Income Range\");"
   ]
  },
  {
   "cell_type": "markdown",
   "id": "250dfe35",
   "metadata": {
    "slideshow": {
     "slide_type": "skip"
    }
   },
   "source": [
    "The individuals who tend to go for loans the most are those who earn between 50k and 75k, let's see their Prosper Scores for more data that can help our investigation."
   ]
  },
  {
   "cell_type": "markdown",
   "id": "4b27dc93",
   "metadata": {
    "slideshow": {
     "slide_type": "skip"
    }
   },
   "source": []
  },
  {
   "cell_type": "code",
   "execution_count": 16,
   "id": "dbe1bd77",
   "metadata": {
    "scrolled": true,
    "slideshow": {
     "slide_type": "skip"
    }
   },
   "outputs": [
    {
     "data": {
      "image/png": "[encoded data removed]",
      "text/plain": [
       "<Figure size 432x288 with 1 Axes>"
      ]
     },
     "metadata": {
      "needs_background": "light"
     },
     "output_type": "display_data"
    }
   ],
   "source": [
    "#Now let's look at the Prosper Score distribution\n",
    "bins= np.arange(0,df2.ProsperScore.max()+2,1)-0.5\n",
    "plt.hist(x=df2.ProsperScore,bins=20)\n",
    "plt.xticks(range(1,11))\n",
    "plt.xlim(0,10.5)\n",
    "plt.xlabel(\"Prosper Score\");\n"
   ]
  },
  {
   "cell_type": "markdown",
   "id": "a19686f3",
   "metadata": {
    "slideshow": {
     "slide_type": "skip"
    }
   },
   "source": [
    "Here we dive deep into the distribution of Prosper Scores, it's a discrete distribution as we can't have decimal scores and it's also looking free of skewness."
   ]
  },
  {
   "cell_type": "markdown",
   "id": "aa35af91",
   "metadata": {
    "slideshow": {
     "slide_type": "skip"
    }
   },
   "source": [
    "We have now the distribution of the Prosper Scores, we have noticed that there are scores that are higher than 10, specifically 11, so we adjusted the graph to be truncated at 10 max and will deal with the rogue scores now."
   ]
  },
  {
   "cell_type": "code",
   "execution_count": 17,
   "id": "de47215f",
   "metadata": {
    "slideshow": {
     "slide_type": "skip"
    }
   },
   "outputs": [
    {
     "data": {
      "text/html": [
       "<div>\n",
       "<style scoped>\n",
       "    .dataframe tbody tr th:only-of-type {\n",
       "        vertical-align: middle;\n",
       "    }\n",
       "\n",
       "    .dataframe tbody tr th {\n",
       "        vertical-align: top;\n",
       "    }\n",
       "\n",
       "    .dataframe thead th {\n",
       "        text-align: right;\n",
       "    }\n",
       "</style>\n",
       "<table border=\"1\" class=\"dataframe\">\n",
       "  <thead>\n",
       "    <tr style=\"text-align: right;\">\n",
       "      <th></th>\n",
       "      <th>BorrowerAPR</th>\n",
       "      <th>BorrowerRate</th>\n",
       "      <th>LenderYield</th>\n",
       "      <th>EstimatedEffectiveYield</th>\n",
       "      <th>EstimatedLoss</th>\n",
       "      <th>EstimatedReturn</th>\n",
       "      <th>ProsperRating (numeric)</th>\n",
       "      <th>ProsperRating (Alpha)</th>\n",
       "      <th>ProsperScore</th>\n",
       "      <th>ListingCategory (numeric)</th>\n",
       "      <th>BorrowerState</th>\n",
       "      <th>Occupation</th>\n",
       "      <th>EmploymentStatus</th>\n",
       "      <th>EmploymentStatusDuration</th>\n",
       "      <th>DebtToIncomeRatio</th>\n",
       "      <th>IncomeRange</th>\n",
       "      <th>IncomeVerifiable</th>\n",
       "      <th>StatedMonthlyIncome</th>\n",
       "      <th>LoanOriginalAmount</th>\n",
       "      <th>Investors</th>\n",
       "    </tr>\n",
       "  </thead>\n",
       "  <tbody>\n",
       "    <tr>\n",
       "      <th>9</th>\n",
       "      <td>0.07620</td>\n",
       "      <td>0.0629</td>\n",
       "      <td>0.0529</td>\n",
       "      <td>0.05221</td>\n",
       "      <td>0.0099</td>\n",
       "      <td>0.04231</td>\n",
       "      <td>7.0</td>\n",
       "      <td>AA</td>\n",
       "      <td>11.0</td>\n",
       "      <td>7</td>\n",
       "      <td>IL</td>\n",
       "      <td>Food Service</td>\n",
       "      <td>Employed</td>\n",
       "      <td>269.0</td>\n",
       "      <td>0.25</td>\n",
       "      <td>$25,000-49,999</td>\n",
       "      <td>True</td>\n",
       "      <td>3333.333333</td>\n",
       "      <td>10000</td>\n",
       "      <td>1</td>\n",
       "    </tr>\n",
       "    <tr>\n",
       "      <th>158</th>\n",
       "      <td>0.09469</td>\n",
       "      <td>0.0809</td>\n",
       "      <td>0.0709</td>\n",
       "      <td>0.06919</td>\n",
       "      <td>0.0199</td>\n",
       "      <td>0.04929</td>\n",
       "      <td>7.0</td>\n",
       "      <td>AA</td>\n",
       "      <td>11.0</td>\n",
       "      <td>6</td>\n",
       "      <td>OR</td>\n",
       "      <td>Tradesman - Mechanic</td>\n",
       "      <td>Employed</td>\n",
       "      <td>22.0</td>\n",
       "      <td>0.05</td>\n",
       "      <td>$75,000-99,999</td>\n",
       "      <td>True</td>\n",
       "      <td>6666.666667</td>\n",
       "      <td>5500</td>\n",
       "      <td>1</td>\n",
       "    </tr>\n",
       "    <tr>\n",
       "      <th>224</th>\n",
       "      <td>0.13799</td>\n",
       "      <td>0.1099</td>\n",
       "      <td>0.0999</td>\n",
       "      <td>0.09628</td>\n",
       "      <td>0.0324</td>\n",
       "      <td>0.06388</td>\n",
       "      <td>6.0</td>\n",
       "      <td>A</td>\n",
       "      <td>11.0</td>\n",
       "      <td>1</td>\n",
       "      <td>WI</td>\n",
       "      <td>Sales - Commission</td>\n",
       "      <td>Employed</td>\n",
       "      <td>114.0</td>\n",
       "      <td>0.11</td>\n",
       "      <td>$100,000+</td>\n",
       "      <td>True</td>\n",
       "      <td>33333.333333</td>\n",
       "      <td>30000</td>\n",
       "      <td>1</td>\n",
       "    </tr>\n",
       "    <tr>\n",
       "      <th>236</th>\n",
       "      <td>0.06726</td>\n",
       "      <td>0.0605</td>\n",
       "      <td>0.0505</td>\n",
       "      <td>0.05001</td>\n",
       "      <td>0.0074</td>\n",
       "      <td>0.04261</td>\n",
       "      <td>7.0</td>\n",
       "      <td>AA</td>\n",
       "      <td>11.0</td>\n",
       "      <td>1</td>\n",
       "      <td>OR</td>\n",
       "      <td>Tradesman - Mechanic</td>\n",
       "      <td>Employed</td>\n",
       "      <td>105.0</td>\n",
       "      <td>0.14</td>\n",
       "      <td>$25,000-49,999</td>\n",
       "      <td>True</td>\n",
       "      <td>4083.333333</td>\n",
       "      <td>9000</td>\n",
       "      <td>198</td>\n",
       "    </tr>\n",
       "    <tr>\n",
       "      <th>277</th>\n",
       "      <td>0.15868</td>\n",
       "      <td>0.1355</td>\n",
       "      <td>0.1255</td>\n",
       "      <td>0.11932</td>\n",
       "      <td>0.0474</td>\n",
       "      <td>0.07192</td>\n",
       "      <td>5.0</td>\n",
       "      <td>B</td>\n",
       "      <td>11.0</td>\n",
       "      <td>1</td>\n",
       "      <td>MA</td>\n",
       "      <td>Other</td>\n",
       "      <td>Full-time</td>\n",
       "      <td>154.0</td>\n",
       "      <td>0.19</td>\n",
       "      <td>$75,000-99,999</td>\n",
       "      <td>True</td>\n",
       "      <td>6833.333333</td>\n",
       "      <td>20000</td>\n",
       "      <td>1</td>\n",
       "    </tr>\n",
       "    <tr>\n",
       "      <th>...</th>\n",
       "      <td>...</td>\n",
       "      <td>...</td>\n",
       "      <td>...</td>\n",
       "      <td>...</td>\n",
       "      <td>...</td>\n",
       "      <td>...</td>\n",
       "      <td>...</td>\n",
       "      <td>...</td>\n",
       "      <td>...</td>\n",
       "      <td>...</td>\n",
       "      <td>...</td>\n",
       "      <td>...</td>\n",
       "      <td>...</td>\n",
       "      <td>...</td>\n",
       "      <td>...</td>\n",
       "      <td>...</td>\n",
       "      <td>...</td>\n",
       "      <td>...</td>\n",
       "      <td>...</td>\n",
       "      <td>...</td>\n",
       "    </tr>\n",
       "    <tr>\n",
       "      <th>113762</th>\n",
       "      <td>0.13636</td>\n",
       "      <td>0.1139</td>\n",
       "      <td>0.1039</td>\n",
       "      <td>0.09989</td>\n",
       "      <td>0.0349</td>\n",
       "      <td>0.06499</td>\n",
       "      <td>6.0</td>\n",
       "      <td>A</td>\n",
       "      <td>11.0</td>\n",
       "      <td>20</td>\n",
       "      <td>NY</td>\n",
       "      <td>Other</td>\n",
       "      <td>Employed</td>\n",
       "      <td>41.0</td>\n",
       "      <td>0.23</td>\n",
       "      <td>$100,000+</td>\n",
       "      <td>True</td>\n",
       "      <td>9083.333333</td>\n",
       "      <td>25000</td>\n",
       "      <td>149</td>\n",
       "    </tr>\n",
       "    <tr>\n",
       "      <th>113784</th>\n",
       "      <td>0.12691</td>\n",
       "      <td>0.0990</td>\n",
       "      <td>0.0890</td>\n",
       "      <td>0.08643</td>\n",
       "      <td>0.0249</td>\n",
       "      <td>0.06153</td>\n",
       "      <td>6.0</td>\n",
       "      <td>A</td>\n",
       "      <td>11.0</td>\n",
       "      <td>1</td>\n",
       "      <td>CA</td>\n",
       "      <td>Other</td>\n",
       "      <td>Employed</td>\n",
       "      <td>158.0</td>\n",
       "      <td>0.30</td>\n",
       "      <td>$100,000+</td>\n",
       "      <td>True</td>\n",
       "      <td>8583.333333</td>\n",
       "      <td>15000</td>\n",
       "      <td>1</td>\n",
       "    </tr>\n",
       "    <tr>\n",
       "      <th>113855</th>\n",
       "      <td>0.14751</td>\n",
       "      <td>0.1189</td>\n",
       "      <td>0.1089</td>\n",
       "      <td>0.10446</td>\n",
       "      <td>0.0374</td>\n",
       "      <td>0.06706</td>\n",
       "      <td>6.0</td>\n",
       "      <td>A</td>\n",
       "      <td>11.0</td>\n",
       "      <td>3</td>\n",
       "      <td>NY</td>\n",
       "      <td>Food Service Management</td>\n",
       "      <td>Full-time</td>\n",
       "      <td>89.0</td>\n",
       "      <td>0.07</td>\n",
       "      <td>$75,000-99,999</td>\n",
       "      <td>True</td>\n",
       "      <td>6666.666667</td>\n",
       "      <td>8500</td>\n",
       "      <td>143</td>\n",
       "    </tr>\n",
       "    <tr>\n",
       "      <th>113881</th>\n",
       "      <td>0.19681</td>\n",
       "      <td>0.1730</td>\n",
       "      <td>0.1630</td>\n",
       "      <td>0.15264</td>\n",
       "      <td>0.0674</td>\n",
       "      <td>0.08524</td>\n",
       "      <td>4.0</td>\n",
       "      <td>C</td>\n",
       "      <td>11.0</td>\n",
       "      <td>7</td>\n",
       "      <td>CO</td>\n",
       "      <td>Professional</td>\n",
       "      <td>Employed</td>\n",
       "      <td>37.0</td>\n",
       "      <td>0.29</td>\n",
       "      <td>$75,000-99,999</td>\n",
       "      <td>True</td>\n",
       "      <td>8166.666667</td>\n",
       "      <td>19432</td>\n",
       "      <td>1</td>\n",
       "    </tr>\n",
       "    <tr>\n",
       "      <th>113912</th>\n",
       "      <td>0.06726</td>\n",
       "      <td>0.0605</td>\n",
       "      <td>0.0505</td>\n",
       "      <td>0.05000</td>\n",
       "      <td>0.0074</td>\n",
       "      <td>0.04260</td>\n",
       "      <td>7.0</td>\n",
       "      <td>AA</td>\n",
       "      <td>11.0</td>\n",
       "      <td>2</td>\n",
       "      <td>MN</td>\n",
       "      <td>Scientist</td>\n",
       "      <td>Employed</td>\n",
       "      <td>102.0</td>\n",
       "      <td>0.20</td>\n",
       "      <td>$25,000-49,999</td>\n",
       "      <td>True</td>\n",
       "      <td>2500.000000</td>\n",
       "      <td>4000</td>\n",
       "      <td>1</td>\n",
       "    </tr>\n",
       "  </tbody>\n",
       "</table>\n",
       "<p>1392 rows × 20 columns</p>\n",
       "</div>"
      ],
      "text/plain": [
       "        BorrowerAPR  BorrowerRate  LenderYield  EstimatedEffectiveYield  \\\n",
       "9           0.07620        0.0629       0.0529                  0.05221   \n",
       "158         0.09469        0.0809       0.0709                  0.06919   \n",
       "224         0.13799        0.1099       0.0999                  0.09628   \n",
       "236         0.06726        0.0605       0.0505                  0.05001   \n",
       "277         0.15868        0.1355       0.1255                  0.11932   \n",
       "...             ...           ...          ...                      ...   \n",
       "113762      0.13636        0.1139       0.1039                  0.09989   \n",
       "113784      0.12691        0.0990       0.0890                  0.08643   \n",
       "113855      0.14751        0.1189       0.1089                  0.10446   \n",
       "113881      0.19681        0.1730       0.1630                  0.15264   \n",
       "113912      0.06726        0.0605       0.0505                  0.05000   \n",
       "\n",
       "        EstimatedLoss  EstimatedReturn  ProsperRating (numeric)  \\\n",
       "9              0.0099          0.04231                      7.0   \n",
       "158            0.0199          0.04929                      7.0   \n",
       "224            0.0324          0.06388                      6.0   \n",
       "236            0.0074          0.04261                      7.0   \n",
       "277            0.0474          0.07192                      5.0   \n",
       "...               ...              ...                      ...   \n",
       "113762         0.0349          0.06499                      6.0   \n",
       "113784         0.0249          0.06153                      6.0   \n",
       "113855         0.0374          0.06706                      6.0   \n",
       "113881         0.0674          0.08524                      4.0   \n",
       "113912         0.0074          0.04260                      7.0   \n",
       "\n",
       "       ProsperRating (Alpha)  ProsperScore  ListingCategory (numeric)  \\\n",
       "9                         AA          11.0                          7   \n",
       "158                       AA          11.0                          6   \n",
       "224                        A          11.0                          1   \n",
       "236                       AA          11.0                          1   \n",
       "277                        B          11.0                          1   \n",
       "...                      ...           ...                        ...   \n",
       "113762                     A          11.0                         20   \n",
       "113784                     A          11.0                          1   \n",
       "113855                     A          11.0                          3   \n",
       "113881                     C          11.0                          7   \n",
       "113912                    AA          11.0                          2   \n",
       "\n",
       "       BorrowerState               Occupation EmploymentStatus  \\\n",
       "9                 IL             Food Service         Employed   \n",
       "158               OR     Tradesman - Mechanic         Employed   \n",
       "224               WI       Sales - Commission         Employed   \n",
       "236               OR     Tradesman - Mechanic         Employed   \n",
       "277               MA                    Other        Full-time   \n",
       "...              ...                      ...              ...   \n",
       "113762            NY                    Other         Employed   \n",
       "113784            CA                    Other         Employed   \n",
       "113855            NY  Food Service Management        Full-time   \n",
       "113881            CO             Professional         Employed   \n",
       "113912            MN                Scientist         Employed   \n",
       "\n",
       "        EmploymentStatusDuration  DebtToIncomeRatio     IncomeRange  \\\n",
       "9                          269.0               0.25  $25,000-49,999   \n",
       "158                         22.0               0.05  $75,000-99,999   \n",
       "224                        114.0               0.11       $100,000+   \n",
       "236                        105.0               0.14  $25,000-49,999   \n",
       "277                        154.0               0.19  $75,000-99,999   \n",
       "...                          ...                ...             ...   \n",
       "113762                      41.0               0.23       $100,000+   \n",
       "113784                     158.0               0.30       $100,000+   \n",
       "113855                      89.0               0.07  $75,000-99,999   \n",
       "113881                      37.0               0.29  $75,000-99,999   \n",
       "113912                     102.0               0.20  $25,000-49,999   \n",
       "\n",
       "        IncomeVerifiable  StatedMonthlyIncome  LoanOriginalAmount  Investors  \n",
       "9                   True          3333.333333               10000          1  \n",
       "158                 True          6666.666667                5500          1  \n",
       "224                 True         33333.333333               30000          1  \n",
       "236                 True          4083.333333                9000        198  \n",
       "277                 True          6833.333333               20000          1  \n",
       "...                  ...                  ...                 ...        ...  \n",
       "113762              True          9083.333333               25000        149  \n",
       "113784              True          8583.333333               15000          1  \n",
       "113855              True          6666.666667                8500        143  \n",
       "113881              True          8166.666667               19432          1  \n",
       "113912              True          2500.000000                4000          1  \n",
       "\n",
       "[1392 rows x 20 columns]"
      ]
     },
     "execution_count": 17,
     "metadata": {},
     "output_type": "execute_result"
    }
   ],
   "source": [
    "df2.query('ProsperScore>10')"
   ]
  },
  {
   "cell_type": "markdown",
   "id": "a43ea2e4",
   "metadata": {
    "slideshow": {
     "slide_type": "skip"
    }
   },
   "source": [
    "We see here about 1400 in accurate observations, I have decided to replace them with the mode to not affect our data set."
   ]
  },
  {
   "cell_type": "code",
   "execution_count": 18,
   "id": "ea494a1c",
   "metadata": {
    "slideshow": {
     "slide_type": "skip"
    }
   },
   "outputs": [],
   "source": [
    "df2.ProsperScore = df2.ProsperScore.replace([11.0],8.0)"
   ]
  },
  {
   "cell_type": "code",
   "execution_count": 19,
   "id": "e2d8a6de",
   "metadata": {
    "slideshow": {
     "slide_type": "skip"
    }
   },
   "outputs": [
    {
     "data": {
      "text/plain": [
       "8.0     12824\n",
       "6.0     11156\n",
       "4.0     10826\n",
       "7.0      9816\n",
       "5.0      8643\n",
       "9.0      6588\n",
       "3.0      6374\n",
       "2.0      4674\n",
       "10.0     4600\n",
       "1.0       715\n",
       "Name: ProsperScore, dtype: int64"
      ]
     },
     "execution_count": 19,
     "metadata": {},
     "output_type": "execute_result"
    }
   ],
   "source": [
    "df2.ProsperScore.value_counts()"
   ]
  },
  {
   "cell_type": "markdown",
   "id": "f59a6902",
   "metadata": {
    "slideshow": {
     "slide_type": "skip"
    }
   },
   "source": [
    "* We have dealt with some factors that we believe affect the the Borrower APR, within the process we looked at some of the outliers that are still necessary to have for our analysis, we have just adjusted our scales and limits to get the zoom in we want. Also, we have cleaned and tidied the data during the process. We want to further explore them in the next secion."
   ]
  },
  {
   "cell_type": "markdown",
   "id": "5fefef92",
   "metadata": {
    "slideshow": {
     "slide_type": "skip"
    }
   },
   "source": [
    "- We need to look now at the relationship between each of the above variables and the Borrower APR our variable of interest."
   ]
  },
  {
   "cell_type": "markdown",
   "id": "32b02150",
   "metadata": {
    "slideshow": {
     "slide_type": "skip"
    }
   },
   "source": [
    "### Second: Bivariate Analysis:"
   ]
  },
  {
   "cell_type": "markdown",
   "id": "cc7e1be7",
   "metadata": {
    "slideshow": {
     "slide_type": "skip"
    }
   },
   "source": [
    "First of all we want to have a look at mutual correlations between our variables,but we need to drop unnecessary columns for this section."
   ]
  },
  {
   "cell_type": "code",
   "execution_count": 20,
   "id": "f331ab06",
   "metadata": {
    "slideshow": {
     "slide_type": "skip"
    }
   },
   "outputs": [
    {
     "name": "stdout",
     "output_type": "stream",
     "text": [
      "<class 'pandas.core.frame.DataFrame'>\n",
      "Int64Index: 76216 entries, 1 to 113936\n",
      "Data columns (total 20 columns):\n",
      " #   Column                     Non-Null Count  Dtype  \n",
      "---  ------                     --------------  -----  \n",
      " 0   BorrowerAPR                76216 non-null  float64\n",
      " 1   BorrowerRate               76216 non-null  float64\n",
      " 2   LenderYield                76216 non-null  float64\n",
      " 3   EstimatedEffectiveYield    76216 non-null  float64\n",
      " 4   EstimatedLoss              76216 non-null  float64\n",
      " 5   EstimatedReturn            76216 non-null  float64\n",
      " 6   ProsperRating (numeric)    76216 non-null  float64\n",
      " 7   ProsperRating (Alpha)      76216 non-null  object \n",
      " 8   ProsperScore               76216 non-null  float64\n",
      " 9   ListingCategory (numeric)  76216 non-null  int64  \n",
      " 10  BorrowerState              76216 non-null  object \n",
      " 11  Occupation                 76216 non-null  object \n",
      " 12  EmploymentStatus           76216 non-null  object \n",
      " 13  EmploymentStatusDuration   76216 non-null  float64\n",
      " 14  DebtToIncomeRatio          76216 non-null  float64\n",
      " 15  IncomeRange                76216 non-null  object \n",
      " 16  IncomeVerifiable           76216 non-null  bool   \n",
      " 17  StatedMonthlyIncome        76216 non-null  float64\n",
      " 18  LoanOriginalAmount         76216 non-null  int64  \n",
      " 19  Investors                  76216 non-null  int64  \n",
      "dtypes: bool(1), float64(11), int64(3), object(5)\n",
      "memory usage: 13.7+ MB\n"
     ]
    }
   ],
   "source": [
    "df2.info()"
   ]
  },
  {
   "cell_type": "code",
   "execution_count": 21,
   "id": "99ec1820",
   "metadata": {
    "slideshow": {
     "slide_type": "skip"
    }
   },
   "outputs": [
    {
     "data": {
      "text/html": [
       "<div>\n",
       "<style scoped>\n",
       "    .dataframe tbody tr th:only-of-type {\n",
       "        vertical-align: middle;\n",
       "    }\n",
       "\n",
       "    .dataframe tbody tr th {\n",
       "        vertical-align: top;\n",
       "    }\n",
       "\n",
       "    .dataframe thead th {\n",
       "        text-align: right;\n",
       "    }\n",
       "</style>\n",
       "<table border=\"1\" class=\"dataframe\">\n",
       "  <thead>\n",
       "    <tr style=\"text-align: right;\">\n",
       "      <th></th>\n",
       "      <th>BorrowerAPR</th>\n",
       "      <th>ProsperScore</th>\n",
       "      <th>DebtToIncomeRatio</th>\n",
       "      <th>IncomeRange</th>\n",
       "      <th>StatedMonthlyIncome</th>\n",
       "    </tr>\n",
       "  </thead>\n",
       "  <tbody>\n",
       "    <tr>\n",
       "      <th>1</th>\n",
       "      <td>0.12016</td>\n",
       "      <td>7.0</td>\n",
       "      <td>0.18</td>\n",
       "      <td>$50,000-74,999</td>\n",
       "      <td>6125.000000</td>\n",
       "    </tr>\n",
       "    <tr>\n",
       "      <th>3</th>\n",
       "      <td>0.12528</td>\n",
       "      <td>9.0</td>\n",
       "      <td>0.15</td>\n",
       "      <td>$25,000-49,999</td>\n",
       "      <td>2875.000000</td>\n",
       "    </tr>\n",
       "    <tr>\n",
       "      <th>4</th>\n",
       "      <td>0.24614</td>\n",
       "      <td>4.0</td>\n",
       "      <td>0.26</td>\n",
       "      <td>$100,000+</td>\n",
       "      <td>9583.333333</td>\n",
       "    </tr>\n",
       "    <tr>\n",
       "      <th>5</th>\n",
       "      <td>0.15425</td>\n",
       "      <td>10.0</td>\n",
       "      <td>0.36</td>\n",
       "      <td>$100,000+</td>\n",
       "      <td>8333.333333</td>\n",
       "    </tr>\n",
       "    <tr>\n",
       "      <th>6</th>\n",
       "      <td>0.31032</td>\n",
       "      <td>2.0</td>\n",
       "      <td>0.27</td>\n",
       "      <td>$25,000-49,999</td>\n",
       "      <td>2083.333333</td>\n",
       "    </tr>\n",
       "  </tbody>\n",
       "</table>\n",
       "</div>"
      ],
      "text/plain": [
       "   BorrowerAPR  ProsperScore  DebtToIncomeRatio     IncomeRange  \\\n",
       "1      0.12016           7.0               0.18  $50,000-74,999   \n",
       "3      0.12528           9.0               0.15  $25,000-49,999   \n",
       "4      0.24614           4.0               0.26       $100,000+   \n",
       "5      0.15425          10.0               0.36       $100,000+   \n",
       "6      0.31032           2.0               0.27  $25,000-49,999   \n",
       "\n",
       "   StatedMonthlyIncome  \n",
       "1          6125.000000  \n",
       "3          2875.000000  \n",
       "4          9583.333333  \n",
       "5          8333.333333  \n",
       "6          2083.333333  "
      ]
     },
     "execution_count": 21,
     "metadata": {},
     "output_type": "execute_result"
    }
   ],
   "source": [
    "# we are studying bivariate relationships here so we need to drop unnecessary columns to get better results\n",
    "df3 = df2.drop(df2.columns[[1,2,3,4,5,6,7,9,10,11,12,13,16,18,19]],axis=1)\n",
    "df3.head()"
   ]
  },
  {
   "cell_type": "code",
   "execution_count": 22,
   "id": "7bac5f99",
   "metadata": {
    "slideshow": {
     "slide_type": "skip"
    }
   },
   "outputs": [
    {
     "data": {
      "text/plain": [
       "''"
      ]
     },
     "execution_count": 22,
     "metadata": {},
     "output_type": "execute_result"
    },
    {
     "data": {
      "image/png": "[encoded data removed]",
      "text/plain": [
       "<Figure size 720x360 with 2 Axes>"
      ]
     },
     "metadata": {
      "needs_background": "light"
     },
     "output_type": "display_data"
    }
   ],
   "source": [
    "plt.figure(figsize=[10,5])\n",
    "sns.heatmap(df3.corr(),annot=True,cmap='vlag_r')\n",
    ";"
   ]
  },
  {
   "cell_type": "markdown",
   "id": "ad2ebf94",
   "metadata": {
    "slideshow": {
     "slide_type": "skip"
    }
   },
   "source": [
    "We can notice here that the relationships to Borrower APR are weak except for the relationship with Prospect score, it appears to a moderate negative relatioship."
   ]
  },
  {
   "cell_type": "code",
   "execution_count": 23,
   "id": "b9424b0f",
   "metadata": {
    "slideshow": {
     "slide_type": "skip"
    }
   },
   "outputs": [],
   "source": [
    "df4 = df3.query('DebtToIncomeRatio <=0.7')"
   ]
  },
  {
   "cell_type": "markdown",
   "id": "9c791aea",
   "metadata": {
    "slideshow": {
     "slide_type": "skip"
    }
   },
   "source": [
    "The above step is to show us clarified results and remove the noise caused by the outliers in the Debt to Income Ratio data. While I believe they shouldn't be removed, I also believe in cutting them off for the sake of relation clarification."
   ]
  },
  {
   "cell_type": "markdown",
   "id": "5a386602",
   "metadata": {
    "slideshow": {
     "slide_type": "skip"
    }
   },
   "source": [
    "Next step is to see these correlations graphically and visually to better investigate their effect on the main variable."
   ]
  },
  {
   "cell_type": "code",
   "execution_count": 24,
   "id": "7f3d0215",
   "metadata": {
    "slideshow": {
     "slide_type": "skip"
    }
   },
   "outputs": [
    {
     "data": {
      "image/png": "[encoded data removed]",
      "text/plain": [
       "<Figure size 720x720 with 20 Axes>"
      ]
     },
     "metadata": {
      "needs_background": "light"
     },
     "output_type": "display_data"
    }
   ],
   "source": [
    "samples= np.random.choice(df4.shape[0],500,replace=False)\n",
    "loan_samp = df4.iloc[samples]\n",
    "\n",
    "n= sns.PairGrid(data=loan_samp)\n",
    "n= n.map_diag(plt.hist,bins=20)\n",
    "n.map_offdiag(plt.scatter);"
   ]
  },
  {
   "cell_type": "markdown",
   "id": "9617c0ab",
   "metadata": {
    "slideshow": {
     "slide_type": "skip"
    }
   },
   "source": [
    "We can see the mutual linear relationships between our chosen variables. The strongest relationship appears to be between the Borrower APR and Prosper Score unlike what we expected at the beginning of our investigation. However, the other relationships are not too small to be ignored amd still worth examining."
   ]
  },
  {
   "cell_type": "markdown",
   "id": "13ef5ee2",
   "metadata": {
    "slideshow": {
     "slide_type": "skip"
    }
   },
   "source": [
    "Let's Now have a closer look at the strongest correlation according to the investigation."
   ]
  },
  {
   "cell_type": "markdown",
   "id": "8174051c",
   "metadata": {
    "slideshow": {
     "slide_type": "slide"
    }
   },
   "source": [
    "## Borrower APR by Prosper Score\n",
    "\n",
    "- We can see that the highest APR rates are associated with the lowest Prosper scores, with gradual decrease in the APR rate as we approach the highest score of 10."
   ]
  },
  {
   "cell_type": "code",
   "execution_count": 25,
   "id": "1ab0a736",
   "metadata": {
    "slideshow": {
     "slide_type": "subslide"
    }
   },
   "outputs": [
    {
     "data": {
      "image/png": "[encoded data removed]",
      "text/plain": [
       "<Figure size 1080x360 with 1 Axes>"
      ]
     },
     "metadata": {
      "needs_background": "light"
     },
     "output_type": "display_data"
    }
   ],
   "source": [
    "plt.figure(figsize=[15,5])\n",
    "sns.violinplot(x= df3.ProsperScore,y=df3.BorrowerAPR,color=sns.color_palette()[0])\n",
    "plt.xlabel('Prosper Score')\n",
    "plt.ylabel('Borrower APR')\n",
    "plt.title('Borrower APR by Prosper Score');\n"
   ]
  },
  {
   "cell_type": "markdown",
   "id": "118c7154",
   "metadata": {
    "slideshow": {
     "slide_type": "skip"
    }
   },
   "source": [
    "Clearly now we see the negative correlation between the two variables and it approaches the strong limit of 0.7 (r= 0.67 here). Also, the violin plot allows us to see the outliers clearly."
   ]
  },
  {
   "cell_type": "code",
   "execution_count": 37,
   "id": "8a006a6e",
   "metadata": {
    "slideshow": {
     "slide_type": "skip"
    }
   },
   "outputs": [
    {
     "data": {
      "text/plain": [
       "''"
      ]
     },
     "execution_count": 37,
     "metadata": {},
     "output_type": "execute_result"
    },
    {
     "data": {
      "image/png": "[encoded data removed]",
      "text/plain": [
       "<Figure size 576x360 with 1 Axes>"
      ]
     },
     "metadata": {
      "needs_background": "light"
     },
     "output_type": "display_data"
    }
   ],
   "source": [
    "#We look now at the relationship between BorrowerAPR and Debt to income Ration more closely.\n",
    "plt.figure(figsize=[8,5])\n",
    "sns.regplot(x=df3.DebtToIncomeRatio,y=df3.BorrowerAPR,fit_reg=True,scatter_kws={'s':2,'alpha':0.1})\n",
    "plt.xlim(0,2)\n",
    "plt.ylim(0,0.6)\n",
    ";"
   ]
  },
  {
   "cell_type": "markdown",
   "id": "c8b905e1",
   "metadata": {
    "slideshow": {
     "slide_type": "skip"
    }
   },
   "source": [
    "Here we can see an upward trend suggesting that there is a positive relationship between the  variables but as we saw before it's in the weak criteria as the regression line also suggests."
   ]
  },
  {
   "cell_type": "markdown",
   "id": "8a02b343",
   "metadata": {
    "slideshow": {
     "slide_type": "skip"
    }
   },
   "source": [
    "As we are starting to understand the effect of different factors on APR better and better, I am very curious to see the income categories that get the best APR."
   ]
  },
  {
   "cell_type": "markdown",
   "id": "b549edc2",
   "metadata": {
    "slideshow": {
     "slide_type": "slide"
    }
   },
   "source": [
    "## Borrower APR by Income Range\n",
    "\n",
    "- The borrower APR rate also related with the income ranges as we can see that the lowest income categories tend to have the highest APR rates and the rates go down as we go higher in income range."
   ]
  },
  {
   "cell_type": "code",
   "execution_count": 27,
   "id": "f7871201",
   "metadata": {
    "slideshow": {
     "slide_type": "subslide"
    }
   },
   "outputs": [
    {
     "data": {
      "image/png": "[encoded data removed]",
      "text/plain": [
       "<Figure size 720x360 with 1 Axes>"
      ]
     },
     "metadata": {
      "needs_background": "light"
     },
     "output_type": "display_data"
    }
   ],
   "source": [
    "plt.figure(figsize=[10,5])\n",
    "sns.boxplot(x=df3.IncomeRange,y=df3.BorrowerAPR,color=sns.color_palette()[0])\n",
    "plt.xlabel('Income Range')\n",
    "plt.ylabel('Borrower APR')\n",
    "plt.title('Borrower APR by Income Range');"
   ]
  },
  {
   "cell_type": "markdown",
   "id": "ac0251c0",
   "metadata": {
    "slideshow": {
     "slide_type": "skip"
    }
   },
   "source": [
    "As expected, the lowest income category has the highest average APR while the highest income category has the lowest APR. Interesting."
   ]
  },
  {
   "cell_type": "markdown",
   "id": "a8dd5bb9",
   "metadata": {
    "slideshow": {
     "slide_type": "skip"
    }
   },
   "source": [
    "We have now looked at some of the most interesting bivariate relationships we have, deduced some more information and undeerstood the relationships better. Time to move now to the Multivariate relationships analysis to understand the effect of mixing up variables on the APR we get."
   ]
  },
  {
   "cell_type": "markdown",
   "id": "dd447e79",
   "metadata": {
    "slideshow": {
     "slide_type": "skip"
    }
   },
   "source": [
    "### Third: Multivariate Analysis: "
   ]
  },
  {
   "cell_type": "markdown",
   "id": "601d19d6",
   "metadata": {
    "slideshow": {
     "slide_type": "skip"
    }
   },
   "source": [
    "I wonder what APR would people with high income and low Prosper Score get, our analysis has shown that the high income ranges and high high Prosper scores have the lowest APR so let's put that into a tough test."
   ]
  },
  {
   "cell_type": "markdown",
   "id": "6dd08bed",
   "metadata": {
    "slideshow": {
     "slide_type": "slide"
    }
   },
   "source": [
    "## Borrower APR by Income Range and Prosper Score\n",
    "\n",
    "- By exploring the multivariate relation between the 3 variables, we find a very interesting finding. When we have a Prosper score higher than 8, actually the lowest income category seem to have the lowest APR rates. Interesting !."
   ]
  },
  {
   "cell_type": "code",
   "execution_count": 28,
   "id": "e8a365b1",
   "metadata": {
    "slideshow": {
     "slide_type": "subslide"
    }
   },
   "outputs": [
    {
     "data": {
      "image/png": "[encoded data removed]",
      "text/plain": [
       "<Figure size 1440x576 with 1 Axes>"
      ]
     },
     "metadata": {
      "needs_background": "light"
     },
     "output_type": "display_data"
    }
   ],
   "source": [
    "plt.figure(figsize=[20,8])\n",
    "sns.boxplot(x=df3.ProsperScore,y=df3.BorrowerAPR,hue=df3.IncomeRange)\n",
    "plt.xlabel('Prosper Score')\n",
    "plt.ylabel('Borrower APR')\n",
    "plt.title(\"Borrower APR by Prosper score & Income range\");"
   ]
  },
  {
   "cell_type": "markdown",
   "id": "b8aa8b42",
   "metadata": {
    "slideshow": {
     "slide_type": "skip"
    }
   },
   "source": [
    "We saw earlier that when people have high Prosper scores or High income renge they can get low APR, However, When the 2 factors contradict with each other, the Prosper score seems to be more important in determining the APR."
   ]
  },
  {
   "cell_type": "markdown",
   "id": "5137d295",
   "metadata": {
    "slideshow": {
     "slide_type": "skip"
    }
   },
   "source": [
    "Another interesting finding that while the highest income category gets usually the lowest APR, it isn't true for Prosper scores > 8 as the category from  to 24,999 get the lowest APR upon having a prosper score of 9 or 10 !"
   ]
  },
  {
   "cell_type": "markdown",
   "id": "fde5a90d",
   "metadata": {
    "slideshow": {
     "slide_type": "skip"
    }
   },
   "source": [
    "- The multivariate analysis allowed us to see how the Borrower APR changes with changing both the Prosper score and the Income range. It has also allowed us to see micro scale of APR distribution across both variables"
   ]
  },
  {
   "cell_type": "markdown",
   "id": "0b408e30",
   "metadata": {
    "slideshow": {
     "slide_type": "slide"
    }
   },
   "source": [
    "## Results:\n",
    "- In Conclusion, we have deduced that people need to pay the greatest attention to their prosper score,as wehen it increases APR decreases.\n",
    "- Another thing to consider is to have an higher income range if your score is 8 or lower, if your prosper score is 9 or 10 the best APR you will get is when your income is between 1 and 24,999 USD.\n",
    "- Make sure to have a low Debt to income ratio to get the best APR possible.\n",
    "- Your stated monthly income plays a role in the APR you get as well, the higher the monthly income you state the lower the APR you get."
   ]
  },
  {
   "cell_type": "code",
   "execution_count": null,
   "id": "f5d35387",
   "metadata": {},
   "outputs": [],
   "source": [
    "jupyter nbconvert Viz_Project_Explanatory.ipynb --to slides --post serve --template output_toggle"
   ]
  },
  {
   "cell_type": "code",
   "execution_count": null,
   "id": "cdd56e16",
   "metadata": {},
   "outputs": [],
   "source": []
  }
 ],
 "metadata": {
  "celltoolbar": "Slideshow",
  "kernelspec": {
   "display_name": "Python 3",
   "language": "python",
   "name": "python3"
  },
  "language_info": {
   "codemirror_mode": {
    "name": "ipython",
    "version": 3
   },
   "file_extension": ".py",
   "mimetype": "text/x-python",
   "name": "python",
   "nbconvert_exporter": "python",
   "pygments_lexer": "ipython3",
   "version": "3.8.8"
  }
 },
 "nbformat": 4,
 "nbformat_minor": 5
}
